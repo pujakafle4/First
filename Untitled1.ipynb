{
  "nbformat": 4,
  "nbformat_minor": 0,
  "metadata": {
    "colab": {
      "provenance": []
    },
    "kernelspec": {
      "name": "python3",
      "display_name": "Python 3"
    },
    "language_info": {
      "name": "python"
    }
  },
  "cells": [
    {
      "cell_type": "code",
      "execution_count": 1,
      "metadata": {
        "colab": {
          "base_uri": "https://localhost:8080/"
        },
        "id": "DHNcpFavG-VL",
        "outputId": "c0b26fb1-9619-4d5f-9f5d-27df7a1dfa99"
      },
      "outputs": [
        {
          "output_type": "stream",
          "name": "stdout",
          "text": [
            "kaflepuja\n"
          ]
        }
      ],
      "source": [
        "print(\"kaflepuja\")"
      ]
    },
    {
      "cell_type": "code",
      "source": [],
      "metadata": {
        "id": "ify9khBAHMxx"
      },
      "execution_count": null,
      "outputs": []
    }
  ]
}